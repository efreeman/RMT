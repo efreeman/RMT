{
 "cells": [
  {
   "cell_type": "markdown",
   "metadata": {},
   "source": [
    "# Statistical analysis in Python\n",
    "\n",
    "This notebook shows how to read, plot and analyse data in Python."
   ]
  },
  {
   "cell_type": "code",
   "execution_count": 1,
   "metadata": {},
   "outputs": [],
   "source": [
    "import matplotlib.pyplot as plt\n",
    "import pandas as pd\n",
    "import scipy.stats as stats"
   ]
  },
  {
   "cell_type": "markdown",
   "metadata": {},
   "source": [
    "First, we're going to use Pandas to read our experiment data. In this example, we have measured the execution time of two algorithms. Each algorithm was run 1000 times on the same machine, under the same operating conditions, over the same sets of input data. Our hypothesis is that _Algorithm 1_ will be faster than _Algorithm 2_. We can state this belief in the form of a null and alternate hypothesis:\n",
    "\n",
    "$H_0$: _Algorithm 1_ will **not** have faster execution times than _Algorithm 2_\n",
    "\n",
    "$H_A$: _Algorithm 1_ will have faster execution times than _Algorithm 2_"
   ]
  },
  {
   "cell_type": "code",
   "execution_count": 2,
   "metadata": {},
   "outputs": [
    {
     "data": {
      "text/html": [
       "<div>\n",
       "<style scoped>\n",
       "    .dataframe tbody tr th:only-of-type {\n",
       "        vertical-align: middle;\n",
       "    }\n",
       "\n",
       "    .dataframe tbody tr th {\n",
       "        vertical-align: top;\n",
       "    }\n",
       "\n",
       "    .dataframe thead th {\n",
       "        text-align: right;\n",
       "    }\n",
       "</style>\n",
       "<table border=\"1\" class=\"dataframe\">\n",
       "  <thead>\n",
       "    <tr style=\"text-align: right;\">\n",
       "      <th></th>\n",
       "      <th>Algorithm 1</th>\n",
       "      <th>Algorithm 2</th>\n",
       "    </tr>\n",
       "  </thead>\n",
       "  <tbody>\n",
       "    <tr>\n",
       "      <th>mean</th>\n",
       "      <td>2019.462084</td>\n",
       "      <td>2134.738268</td>\n",
       "    </tr>\n",
       "    <tr>\n",
       "      <th>std</th>\n",
       "      <td>213.140030</td>\n",
       "      <td>148.589010</td>\n",
       "    </tr>\n",
       "  </tbody>\n",
       "</table>\n",
       "</div>"
      ],
      "text/plain": [
       "      Algorithm 1  Algorithm 2\n",
       "mean  2019.462084  2134.738268\n",
       "std    213.140030   148.589010"
      ]
     },
     "execution_count": 2,
     "metadata": {},
     "output_type": "execute_result"
    }
   ],
   "source": [
    "data = pd.read_csv(\"data.csv\")\n",
    "data.agg(['mean', 'std'])"
   ]
  },
  {
   "cell_type": "markdown",
   "metadata": {},
   "source": [
    "We now have a _data frame_ containing our data, with one column for each algorithm. Using the `agg` function from `pandas`, we can compute some aggregate statistics for each algorithm. We can see that _Algorithm 1_ was, on average, faster than _Algorithm 2_. However, this is insufficient evidence to support our conclusion. A simple aggregation is not strong enough for us to reject the null hypothesis.\n",
    "\n",
    "Rather than jump straight into analysis, we should plot our data to get a rough idea of what performance for each algorithm looks like. Let's begin with a simple plot, to informally assess performance."
   ]
  },
  {
   "cell_type": "code",
   "execution_count": 9,
   "metadata": {},
   "outputs": [
    {
     "data": {
      "text/plain": [
       "Text(0.5, 0, 'Time (ms)')"
      ]
     },
     "execution_count": 9,
     "metadata": {},
     "output_type": "execute_result"
    },
    {
     "data": {
      "image/png": "[encoded data removed]",
      "text/plain": [
       "<Figure size 432x288 with 1 Axes>"
      ]
     },
     "metadata": {
      "needs_background": "light"
     },
     "output_type": "display_data"
    }
   ],
   "source": [
    "plot = data.plot.density()\n",
    "plot.set_xlabel(\"Time (ms)\")"
   ]
  },
  {
   "cell_type": "markdown",
   "metadata": {},
   "source": [
    "This plot shows the distribution of execution times. At first glance, we can see that _Algorithm 1_ was slightly faster and had more variance in execution time (i.e., it has a wider curve than _Algorithm 2_). However, this visual inspection is still not enough for us to draw a conclusion from. We need stronger evidence if we are to reject $H_0$.\n",
    "\n",
    "In this case we have two sets of data, with observations that are independent of each other. The most appropriate test for such a comparison is the independent measures t-test. Using the `stats.ttest_ind` function from `scipy`, we can perform a t-test comparison of our two sets of time data."
   ]
  },
  {
   "cell_type": "code",
   "execution_count": 11,
   "metadata": {
    "scrolled": true
   },
   "outputs": [
    {
     "name": "stdout",
     "output_type": "stream",
     "text": [
      "t = -14.03, p = 1.0119544702854475e-42\n"
     ]
    }
   ],
   "source": [
    "t, p = stats.ttest_ind(data[\"Algorithm 1\"], data[\"Algorithm 2\"])\n",
    "\n",
    "print(\"t = {:0.02f}, p = {}\".format(t, p))"
   ]
  },
  {
   "cell_type": "markdown",
   "metadata": {},
   "source": [
    "The results from this test shows a t-statistic of $-14.03$ and a p-value of $< 0.001$, meaning the probability of obtaining this result by chance is below 0.1%. This probability is below our $\\alpha = 0.05$, therefore we can reject the null hypothesis $H_0$ and accept the alternative hypothesis $H_A$, i.e., that _Algorithm 1_ is faster than _Algorithm 2_."
   ]
  },
  {
   "cell_type": "code",
   "execution_count": null,
   "metadata": {},
   "outputs": [],
   "source": []
  }
 ],
 "metadata": {
  "kernelspec": {
   "display_name": "Python 3",
   "language": "python",
   "name": "python3"
  },
  "language_info": {
   "codemirror_mode": {
    "name": "ipython",
    "version": 3
   },
   "file_extension": ".py",
   "mimetype": "text/x-python",
   "name": "python",
   "nbconvert_exporter": "python",
   "pygments_lexer": "ipython3",
   "version": "3.8.5"
  }
 },
 "nbformat": 4,
 "nbformat_minor": 4
}
